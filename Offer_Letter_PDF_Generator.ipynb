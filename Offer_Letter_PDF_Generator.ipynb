{
  "nbformat": 4,
  "nbformat_minor": 0,
  "metadata": {
    "colab": {
      "provenance": []
    },
    "kernelspec": {
      "name": "python3",
      "display_name": "Python 3"
    },
    "language_info": {
      "name": "python"
    }
  },
  "cells": [
    {
      "cell_type": "code",
      "execution_count": 1,
      "metadata": {
        "colab": {
          "base_uri": "https://localhost:8080/"
        },
        "id": "Xw9oSKHbaZcJ",
        "outputId": "8d5faa99-f2a7-4908-c006-e9c29c63e978"
      },
      "outputs": [
        {
          "output_type": "stream",
          "name": "stdout",
          "text": [
            "Collecting reportlab\n",
            "  Downloading reportlab-4.4.1-py3-none-any.whl.metadata (1.8 kB)\n",
            "Requirement already satisfied: pillow>=9.0.0 in /usr/local/lib/python3.11/dist-packages (from reportlab) (11.2.1)\n",
            "Requirement already satisfied: chardet in /usr/local/lib/python3.11/dist-packages (from reportlab) (5.2.0)\n",
            "Downloading reportlab-4.4.1-py3-none-any.whl (2.0 MB)\n",
            "\u001b[?25l   \u001b[90m━━━━━━━━━━━━━━━━━━━━━━━━━━━━━━━━━━━━━━━━\u001b[0m \u001b[32m0.0/2.0 MB\u001b[0m \u001b[31m?\u001b[0m eta \u001b[36m-:--:--\u001b[0m\r\u001b[2K   \u001b[91m━━━━━━━━━━━━━━━━━━━━━━━━━━━━━━━━━━━━━━━\u001b[0m\u001b[91m╸\u001b[0m \u001b[32m1.9/2.0 MB\u001b[0m \u001b[31m120.5 MB/s\u001b[0m eta \u001b[36m0:00:01\u001b[0m\r\u001b[2K   \u001b[90m━━━━━━━━━━━━━━━━━━━━━━━━━━━━━━━━━━━━━━━━\u001b[0m \u001b[32m2.0/2.0 MB\u001b[0m \u001b[31m55.3 MB/s\u001b[0m eta \u001b[36m0:00:00\u001b[0m\n",
            "\u001b[?25hInstalling collected packages: reportlab\n",
            "Successfully installed reportlab-4.4.1\n",
            "📋 Enter the following details to generate your Offer Letter:\n",
            "\n",
            "Student Full Name: sandeep\n",
            "College Name: sr university\n",
            "Internship Domain: aws\n",
            "Start Date (e.g., 10 June 2025): 13 june 2025\n",
            "End Date (e.g., 10 July 2025): 13 july 2025\n",
            "\n",
            "✅ PDF offer letter saved as: sandeep_Offer_Letter.pdf\n"
          ]
        }
      ],
      "source": [
        "# ---------------------------------------------\n",
        "# 📄 PROJECT 2: Offer Letter PDF Generator\n",
        "# ---------------------------------------------\n",
        "\n",
        "# Step 1: Install Required Library\n",
        "!pip install reportlab\n",
        "\n",
        "from reportlab.lib.pagesizes import A4\n",
        "from reportlab.pdfgen import canvas\n",
        "from datetime import date\n",
        "\n",
        "# Step 2: Function to Create PDF\n",
        "def generate_offer_letter(name, college, domain, start_date, end_date, filename):\n",
        "    c = canvas.Canvas(filename, pagesize=A4)\n",
        "    width, height = A4\n",
        "\n",
        "    # Header\n",
        "    c.setFont(\"Helvetica-Bold\", 24)\n",
        "    c.drawCentredString(width / 2, height - 100, \"📄 Internship Offer Letter\")\n",
        "\n",
        "    # Body\n",
        "    c.setFont(\"Helvetica\", 12)\n",
        "    y = height - 150\n",
        "\n",
        "    c.drawString(50, y, f\"Dear {name},\")\n",
        "    y -= 30\n",
        "    c.drawString(50, y, f\"We are excited to offer you a virtual internship at Micro Information Technology Services (MITS).\")\n",
        "    y -= 30\n",
        "    c.drawString(50, y, f\"Details of your internship are as follows:\")\n",
        "    y -= 20\n",
        "    c.drawString(60, y, f\"📌 College: {college}\")\n",
        "    y -= 20\n",
        "    c.drawString(60, y, f\"📁 Domain : {domain}\")\n",
        "    y -= 20\n",
        "    c.drawString(60, y, f\"📅 Duration: {start_date} to {end_date}\")\n",
        "    y -= 20\n",
        "    c.drawString(60, y, f\"💰 Stipend : Performance-based (up to ₹15,000)\")\n",
        "\n",
        "    # Footer\n",
        "    y -= 40\n",
        "    c.drawString(50, y, f\"We look forward to working with you.\")\n",
        "    y -= 40\n",
        "    c.drawString(50, y, \"Sincerely,\")\n",
        "    y -= 20\n",
        "    c.drawString(50, y, \"Micro Information Technology Services (MITS)\")\n",
        "\n",
        "    y -= 30\n",
        "    today = date.today().strftime(\"%d %B %Y\")\n",
        "    c.drawString(50, y, f\"Issued on: {today}\")\n",
        "\n",
        "    # Save PDF\n",
        "    c.save()\n",
        "    print(f\"\\n✅ PDF offer letter saved as: {filename}\")\n",
        "\n",
        "# Step 3: Take User Inputs\n",
        "print(\"📋 Enter the following details to generate your Offer Letter:\\n\")\n",
        "\n",
        "student_name = input(\"Student Full Name: \")\n",
        "college_name = input(\"College Name: \")\n",
        "intern_domain = input(\"Internship Domain: \")\n",
        "intern_start = input(\"Start Date (e.g., 10 June 2025): \")\n",
        "intern_end = input(\"End Date (e.g., 10 July 2025): \")\n",
        "pdf_filename = f\"{student_name.replace(' ', '_')}_Offer_Letter.pdf\"\n",
        "\n",
        "# Step 4: Generate PDF\n",
        "generate_offer_letter(student_name, college_name, intern_domain, intern_start, intern_end, pdf_filename)\n"
      ]
    }
  ]
}