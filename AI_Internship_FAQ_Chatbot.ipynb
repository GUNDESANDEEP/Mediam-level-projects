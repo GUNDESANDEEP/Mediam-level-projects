{
  "nbformat": 4,
  "nbformat_minor": 0,
  "metadata": {
    "colab": {
      "provenance": []
    },
    "kernelspec": {
      "name": "python3",
      "display_name": "Python 3"
    },
    "language_info": {
      "name": "python"
    }
  },
  "cells": [
    {
      "cell_type": "code",
      "execution_count": null,
      "metadata": {
        "colab": {
          "base_uri": "https://localhost:8080/"
        },
        "id": "jl4otDJNZAeH",
        "outputId": "a189edfb-027b-4bac-f804-82996dfdf289"
      },
      "outputs": [
        {
          "output_type": "stream",
          "name": "stdout",
          "text": [
            "🤖 Welcome to the MITS AI Chatbot for Intern FAQs\n",
            "\n",
            "🔔 Type your question about the internship below.\n",
            "Type 'exit' to quit.\n",
            "\n",
            "You: sandy\n",
            "🤖 Chatbot: 🤖 Sorry, I couldn't understand your question. Please try asking about 'stipend', 'duration', or 'how to apply'.\n",
            "You: duration\n",
            "🤖 Chatbot: 🤖 Sorry, I couldn't understand your question. Please try asking about 'stipend', 'duration', or 'how to apply'.\n",
            "You: sandeep\n",
            "🤖 Chatbot: 🤖 Sorry, I couldn't understand your question. Please try asking about 'stipend', 'duration', or 'how to apply'.\n",
            "You: how to apply\n",
            "🤖 Chatbot: You can apply via the official internship portal, LinkedIn posts, or through direct application forms provided by MITS.\n",
            "You: stipend\n",
            "🤖 Chatbot: 🤖 Sorry, I couldn't understand your question. Please try asking about 'stipend', 'duration', or 'how to apply'.\n",
            "You: stipend\n",
            "🤖 Chatbot: 🤖 Sorry, I couldn't understand your question. Please try asking about 'stipend', 'duration', or 'how to apply'.\n",
            "You: duration of internship\n",
            "🤖 Chatbot: The internship typically lasts 1 to 2 months depending on the chosen domain.\n",
            "You: certificate\n",
            "🤖 Chatbot: Yes, you receive both an Internship Completion Certificate and an Experience Letter.\n"
          ]
        }
      ],
      "source": [
        "# ---------------------------------------------\n",
        "# 📘 PROJECT 1: AI Internship FAQ Chatbot\n",
        "# ---------------------------------------------\n",
        "print(\"🤖 Welcome to the MITS AI Chatbot for Intern FAQs\")\n",
        "\n",
        "# Step 1: Define Knowledge Base (Dictionary of Questions & Answers)\n",
        "faq_data = {\n",
        "    \"what is mits\": \"MITS stands for Micro Information Technology Services. It provides virtual internships to students in domains like Web Development, AI/ML, Cloud, and more.\",\n",
        "    \"how to apply\": \"You can apply via the official internship portal, LinkedIn posts, or through direct application forms provided by MITS.\",\n",
        "    \"is it paid\": \"Yes! Based on your performance, you can earn a monthly stipend up to ₹15,000.\",\n",
        "    \"duration of internship\": \"The internship typically lasts 1 to 2 months depending on the chosen domain.\",\n",
        "    \"certificate\": \"Yes, you receive both an Internship Completion Certificate and an Experience Letter.\",\n",
        "    \"can i join mits team\": \"Yes! Outstanding interns are offered opportunities to join the MITS team with a fixed stipend.\",\n",
        "    \"what domains are available\": \"Domains include Web Development, Machine Learning, AI, Cybersecurity, Cloud, Python Programming, UI/UX Design, and more.\",\n",
        "    \"contact details\": \"You can contact MITS through their official email or LinkedIn page.\",\n",
        "    \"about certificate verification\": \"You can verify your internship certificate using the unique Certificate ID on the official portal.\",\n",
        "    \"is experience letter available\": \"Yes, you get an Experience Letter along with the Certificate upon successful completion.\"\n",
        "}\n",
        "\n",
        "# Step 2: Basic Search Functionality\n",
        "def get_response(user_input):\n",
        "    user_input = user_input.lower()\n",
        "    for question, answer in faq_data.items():\n",
        "        if question in user_input:\n",
        "            return answer\n",
        "    return \"🤖 Sorry, I couldn't understand your question. Please try asking about 'stipend', 'duration', or 'how to apply'.\"\n",
        "\n",
        "# Step 3: Chat Loop\n",
        "def start_chat():\n",
        "    print(\"\\n🔔 Type your question about the internship below.\")\n",
        "    print(\"Type 'exit' to quit.\\n\")\n",
        "    while True:\n",
        "        user_input = input(\"You: \")\n",
        "        if user_input.lower() == 'exit':\n",
        "            print(\"🤖 Chatbot: Thank you! Good luck with your internship. 👋\")\n",
        "            break\n",
        "        response = get_response(user_input)\n",
        "        print(\"🤖 Chatbot:\", response)\n",
        "\n",
        "# Step 4: Start\n",
        "start_chat()\n"
      ]
    }
  ]
}